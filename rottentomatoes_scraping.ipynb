{
 "cells": [
  {
   "cell_type": "code",
   "execution_count": 2,
   "id": "european-today",
   "metadata": {},
   "outputs": [
    {
     "name": "stdout",
     "output_type": "stream",
     "text": [
      "Collecting rotten_tomatoes_scraper\n",
      "  Downloading rotten_tomatoes_scraper-1.3.4-py3-none-any.whl (7.5 kB)\n",
      "Requirement already satisfied: requests in c:\\users\\17076\\anaconda3\\envs\\pythondata\\lib\\site-packages (from rotten_tomatoes_scraper) (2.25.1)\n",
      "Collecting bs4\n",
      "  Downloading bs4-0.0.1.tar.gz (1.1 kB)\n",
      "Requirement already satisfied: lxml in c:\\users\\17076\\anaconda3\\envs\\pythondata\\lib\\site-packages (from rotten_tomatoes_scraper) (4.6.3)\n",
      "Requirement already satisfied: certifi>=2017.4.17 in c:\\users\\17076\\anaconda3\\envs\\pythondata\\lib\\site-packages (from requests->rotten_tomatoes_scraper) (2020.12.5)\n",
      "Requirement already satisfied: chardet<5,>=3.0.2 in c:\\users\\17076\\anaconda3\\envs\\pythondata\\lib\\site-packages (from requests->rotten_tomatoes_scraper) (4.0.0)\n",
      "Requirement already satisfied: urllib3<1.27,>=1.21.1 in c:\\users\\17076\\anaconda3\\envs\\pythondata\\lib\\site-packages (from requests->rotten_tomatoes_scraper) (1.26.4)\n",
      "Requirement already satisfied: idna<3,>=2.5 in c:\\users\\17076\\anaconda3\\envs\\pythondata\\lib\\site-packages (from requests->rotten_tomatoes_scraper) (2.10)\n",
      "Requirement already satisfied: beautifulsoup4 in c:\\users\\17076\\anaconda3\\envs\\pythondata\\lib\\site-packages (from bs4->rotten_tomatoes_scraper) (4.9.3)\n",
      "Requirement already satisfied: soupsieve>1.2; python_version >= \"3.0\" in c:\\users\\17076\\anaconda3\\envs\\pythondata\\lib\\site-packages (from beautifulsoup4->bs4->rotten_tomatoes_scraper) (2.2.1)\n",
      "Building wheels for collected packages: bs4\n",
      "  Building wheel for bs4 (setup.py): started\n",
      "  Building wheel for bs4 (setup.py): finished with status 'done'\n",
      "  Created wheel for bs4: filename=bs4-0.0.1-py3-none-any.whl size=1279 sha256=3ab6e0676da8c2af53a97b341a01ebfe95babf83a22be47406fbd6ad6791d961\n",
      "  Stored in directory: c:\\users\\17076\\appdata\\local\\pip\\cache\\wheels\\19\\f5\\6d\\a97dd4f22376d4472d5f4c76c7646876052ff3166b3cf71050\n",
      "Successfully built bs4\n",
      "Installing collected packages: bs4, rotten-tomatoes-scraper\n",
      "Successfully installed bs4-0.0.1 rotten-tomatoes-scraper-1.3.4\n"
     ]
    }
   ],
   "source": [
    "!pip3 install rotten_tomatoes_scraper\n"
   ]
  },
  {
   "cell_type": "code",
   "execution_count": null,
   "id": "parliamentary-advertiser",
   "metadata": {},
   "outputs": [],
   "source": [
    "from rotten_tomatoes_scraper.rt_scraper import MovieScraper\n",
    "\n",
    "from splinter import Browser\n",
    "from bs4 import BeautifulSoup\n",
    "from webdriver_manager.chrome import ChromeDriverManager"
   ]
  }
 ],
 "metadata": {
  "kernelspec": {
   "display_name": "Python [conda env:PythonData] *",
   "language": "python",
   "name": "conda-env-PythonData-py"
  },
  "language_info": {
   "codemirror_mode": {
    "name": "ipython",
    "version": 3
   },
   "file_extension": ".py",
   "mimetype": "text/x-python",
   "name": "python",
   "nbconvert_exporter": "python",
   "pygments_lexer": "ipython3",
   "version": "3.6.10"
  }
 },
 "nbformat": 4,
 "nbformat_minor": 5
}
