{
 "cells": [
  {
   "cell_type": "code",
   "execution_count": 1,
   "id": "4bbd5a0e",
   "metadata": {},
   "outputs": [],
   "source": [
    "import pandas as pd \n",
    "from bs4 import BeautifulSoup as bs\n",
    "from webdriver_manager.chrome import ChromeDriverManager\n",
    "from selenium import webdriver\n",
    "from webdriver_manager.chrome import ChromeDriverManager\n",
    "import nbconvert\n",
    "import requests\n",
    "import time\n",
    "from splinter import Browser"
   ]
  },
  {
   "cell_type": "code",
   "execution_count": 2,
   "id": "033d73bd",
   "metadata": {},
   "outputs": [
    {
     "name": "stderr",
     "output_type": "stream",
     "text": [
      "\n",
      "\n",
      "====== WebDriver manager ======\n",
      "Current google-chrome version is 91.0.4472\n",
      "Get LATEST driver version for 91.0.4472\n",
      "Driver [C:\\Users\\slaye\\.wdm\\drivers\\chromedriver\\win32\\91.0.4472.19\\chromedriver.exe] found in cache\n"
     ]
    }
   ],
   "source": [
    "executable_path = {'executable_path': ChromeDriverManager().install()}\n",
    "browser = Browser('chrome', **executable_path, headless=False)"
   ]
  },
  {
   "cell_type": "code",
   "execution_count": 3,
   "id": "5b2f8066",
   "metadata": {},
   "outputs": [],
   "source": [
    "Movies = [\"Toy Story\",\"Men in Black\", \"Detective Pikachu\"]\n",
    "url = \"https://www.rottentomatoes.com/top/bestofrt/\"\n",
    "browser.visit(url)\n",
    "html = browser.html\n",
    "soup = bs(html,'html.parser')\n",
    "tables = pd.read_html(url)"
   ]
  },
  {
   "cell_type": "code",
   "execution_count": 4,
   "id": "efcf8b63",
   "metadata": {},
   "outputs": [],
   "source": [
    "table = tables[2]"
   ]
  },
  {
   "cell_type": "code",
   "execution_count": 5,
   "id": "983b5db2",
   "metadata": {},
   "outputs": [
    {
     "data": {
      "text/html": [
       "<div>\n",
       "<style scoped>\n",
       "    .dataframe tbody tr th:only-of-type {\n",
       "        vertical-align: middle;\n",
       "    }\n",
       "\n",
       "    .dataframe tbody tr th {\n",
       "        vertical-align: top;\n",
       "    }\n",
       "\n",
       "    .dataframe thead th {\n",
       "        text-align: right;\n",
       "    }\n",
       "</style>\n",
       "<table border=\"1\" class=\"dataframe\">\n",
       "  <thead>\n",
       "    <tr style=\"text-align: right;\">\n",
       "      <th></th>\n",
       "      <th>RatingTomatometer</th>\n",
       "      <th>Title</th>\n",
       "    </tr>\n",
       "  </thead>\n",
       "  <tbody>\n",
       "    <tr>\n",
       "      <th>0</th>\n",
       "      <td>99%</td>\n",
       "      <td>It Happened One Night (1934)</td>\n",
       "    </tr>\n",
       "    <tr>\n",
       "      <th>1</th>\n",
       "      <td>98%</td>\n",
       "      <td>Modern Times (1936)</td>\n",
       "    </tr>\n",
       "    <tr>\n",
       "      <th>2</th>\n",
       "      <td>96%</td>\n",
       "      <td>Black Panther (2018)</td>\n",
       "    </tr>\n",
       "    <tr>\n",
       "      <th>3</th>\n",
       "      <td>99%</td>\n",
       "      <td>The Wizard of Oz (1939)</td>\n",
       "    </tr>\n",
       "    <tr>\n",
       "      <th>4</th>\n",
       "      <td>99%</td>\n",
       "      <td>Citizen Kane (1941)</td>\n",
       "    </tr>\n",
       "    <tr>\n",
       "      <th>...</th>\n",
       "      <td>...</td>\n",
       "      <td>...</td>\n",
       "    </tr>\n",
       "    <tr>\n",
       "      <th>95</th>\n",
       "      <td>100%</td>\n",
       "      <td>The Philadelphia Story (1940)</td>\n",
       "    </tr>\n",
       "    <tr>\n",
       "      <th>96</th>\n",
       "      <td>99%</td>\n",
       "      <td>Shoplifters (Manbiki kazoku) (2018)</td>\n",
       "    </tr>\n",
       "    <tr>\n",
       "      <th>97</th>\n",
       "      <td>100%</td>\n",
       "      <td>M (1931)</td>\n",
       "    </tr>\n",
       "    <tr>\n",
       "      <th>98</th>\n",
       "      <td>97%</td>\n",
       "      <td>Metropolis (1927)</td>\n",
       "    </tr>\n",
       "    <tr>\n",
       "      <th>99</th>\n",
       "      <td>98%</td>\n",
       "      <td>Jaws (1975)</td>\n",
       "    </tr>\n",
       "  </tbody>\n",
       "</table>\n",
       "<p>100 rows × 2 columns</p>\n",
       "</div>"
      ],
      "text/plain": [
       "   RatingTomatometer                                Title\n",
       "0                99%         It Happened One Night (1934)\n",
       "1                98%                  Modern Times (1936)\n",
       "2                96%                 Black Panther (2018)\n",
       "3                99%              The Wizard of Oz (1939)\n",
       "4                99%                  Citizen Kane (1941)\n",
       "..               ...                                  ...\n",
       "95              100%        The Philadelphia Story (1940)\n",
       "96               99%  Shoplifters (Manbiki kazoku) (2018)\n",
       "97              100%                             M (1931)\n",
       "98               97%                    Metropolis (1927)\n",
       "99               98%                          Jaws (1975)\n",
       "\n",
       "[100 rows x 2 columns]"
      ]
     },
     "execution_count": 5,
     "metadata": {},
     "output_type": "execute_result"
    }
   ],
   "source": [
    "table = table[['RatingTomatometer','Title']]\n",
    "table"
   ]
  },
  {
   "cell_type": "code",
   "execution_count": 6,
   "id": "6ec8be0d",
   "metadata": {},
   "outputs": [
    {
     "name": "stderr",
     "output_type": "stream",
     "text": [
      "C:\\Users\\slaye\\anaconda3\\envs\\PythonData\\lib\\site-packages\\ipykernel_launcher.py:1: SettingWithCopyWarning: \n",
      "A value is trying to be set on a copy of a slice from a DataFrame.\n",
      "Try using .loc[row_indexer,col_indexer] = value instead\n",
      "\n",
      "See the caveats in the documentation: https://pandas.pydata.org/pandas-docs/stable/user_guide/indexing.html#returning-a-view-versus-a-copy\n",
      "  \"\"\"Entry point for launching an IPython kernel.\n"
     ]
    }
   ],
   "source": [
    "table['Title'] = table['Title'].str.rstrip(' (12345678910)')"
   ]
  },
  {
   "cell_type": "code",
   "execution_count": 7,
   "id": "a026841a",
   "metadata": {},
   "outputs": [],
   "source": [
    "table\n",
    "table.to_csv('RT_ratings.csv')"
   ]
  },
  {
   "cell_type": "code",
   "execution_count": 8,
   "id": "5bafd935",
   "metadata": {},
   "outputs": [],
   "source": [
    "url = 'https://www.imdb.com/search/title/?groups=top_100&sort=user_rating,desc&ref_=adv_prv'\n",
    "browser.visit(url)\n",
    "html = browser.html\n",
    "soup = bs(html, 'html.parser')\n",
    "pieces = soup.find_all('div', class_='lister-item')\n",
    "item_list = []\n",
    "for piece in pieces:\n",
    "    title = (piece.find('h3', class_='lister-item-header').text).replace('\\n', '').split('(')[0]\n",
    "    title=title.split('.')[1]\n",
    "    rating = piece.find('div', class_='ratings-imdb-rating').text.replace('\\n', '')\n",
    "    item_list.append([title,rating])\n",
    "browser.links.find_by_partial_text('Next').click()\n",
    "html = browser.html\n",
    "soup = bs(html, 'html.parser')\n",
    "pieces = soup.find_all('div', class_='lister-item')\n",
    "for piece in pieces:\n",
    "    title = (piece.find('h3', class_='lister-item-header').text).replace('\\n', '').split('(')[0]\n",
    "    title=title.split('.')[1]\n",
    "    rating = piece.find('div', class_='ratings-imdb-rating').text.replace('\\n', '')\n",
    "    item_list.append([title,rating])"
   ]
  },
  {
   "cell_type": "code",
   "execution_count": null,
   "id": "37951467",
   "metadata": {
    "scrolled": false
   },
   "outputs": [],
   "source": []
  },
  {
   "cell_type": "code",
   "execution_count": null,
   "id": "020d86d6",
   "metadata": {},
   "outputs": [],
   "source": []
  },
  {
   "cell_type": "markdown",
   "id": "1bccd997",
   "metadata": {},
   "source": []
  },
  {
   "cell_type": "code",
   "execution_count": 9,
   "id": "ddd88ac8",
   "metadata": {},
   "outputs": [],
   "source": [
    "df = pd.DataFrame(item_list,columns = ['Movie','IMDB Score'])"
   ]
  },
  {
   "cell_type": "code",
   "execution_count": 10,
   "id": "f36afa50",
   "metadata": {},
   "outputs": [],
   "source": [
    "df.to_csv('IMDB_ratings.csv')"
   ]
  },
  {
   "cell_type": "code",
   "execution_count": null,
   "id": "a8a57b23",
   "metadata": {},
   "outputs": [],
   "source": []
  },
  {
   "cell_type": "code",
   "execution_count": null,
   "id": "d95bebfe",
   "metadata": {},
   "outputs": [],
   "source": []
  }
 ],
 "metadata": {
  "kernelspec": {
   "display_name": "Python 3",
   "language": "python",
   "name": "python3"
  },
  "language_info": {
   "codemirror_mode": {
    "name": "ipython",
    "version": 3
   },
   "file_extension": ".py",
   "mimetype": "text/x-python",
   "name": "python",
   "nbconvert_exporter": "python",
   "pygments_lexer": "ipython3",
   "version": "3.6.10"
  }
 },
 "nbformat": 4,
 "nbformat_minor": 5
}
