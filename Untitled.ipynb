{
 "cells": [
  {
   "cell_type": "code",
   "execution_count": 1,
   "id": "136fca5c",
   "metadata": {},
   "outputs": [],
   "source": [
    "import pandas as pd \n",
    "from bs4 import BeautifulSoup as bs\n",
    "from webdriver_manager.chrome import ChromeDriverManager\n",
    "from selenium import webdriver\n",
    "from webdriver_manager.chrome import ChromeDriverManager\n",
    "import nbconvert\n",
    "import requests\n",
    "import time\n",
    "from splinter import Browser"
   ]
  },
  {
   "cell_type": "code",
   "execution_count": 2,
   "id": "1de8192e",
   "metadata": {},
   "outputs": [
    {
     "name": "stderr",
     "output_type": "stream",
     "text": [
      "\n",
      "\n",
      "====== WebDriver manager ======\n",
      "Current google-chrome version is 91.0.4472\n",
      "Get LATEST driver version for 91.0.4472\n",
      "Driver [C:\\Users\\slaye\\.wdm\\drivers\\chromedriver\\win32\\91.0.4472.19\\chromedriver.exe] found in cache\n"
     ]
    }
   ],
   "source": [
    "executable_path = {'executable_path': ChromeDriverManager().install()}\n",
    "browser = Browser('chrome', **executable_path, headless=False)"
   ]
  },
  {
   "cell_type": "code",
   "execution_count": 3,
   "id": "2a8eb6e5",
   "metadata": {},
   "outputs": [],
   "source": [
    "Movies = [\"Toy Story\",\"Men in Black\", \"Detective Pikachu\"]\n",
    "url = \"https://www.rottentomatoes.com/top/bestofrt/\"\n",
    "browser.visit(url)\n",
    "html = browser.html\n",
    "soup = bs(html,'html.parser')\n",
    "tables = pd.read_html(url)"
   ]
  },
  {
   "cell_type": "code",
   "execution_count": 4,
   "id": "bde91083",
   "metadata": {},
   "outputs": [
    {
     "data": {
      "text/html": [
       "<div>\n",
       "<style scoped>\n",
       "    .dataframe tbody tr th:only-of-type {\n",
       "        vertical-align: middle;\n",
       "    }\n",
       "\n",
       "    .dataframe tbody tr th {\n",
       "        vertical-align: top;\n",
       "    }\n",
       "\n",
       "    .dataframe thead th {\n",
       "        text-align: right;\n",
       "    }\n",
       "</style>\n",
       "<table border=\"1\" class=\"dataframe\">\n",
       "  <thead>\n",
       "    <tr style=\"text-align: right;\">\n",
       "      <th></th>\n",
       "      <th>Rank</th>\n",
       "      <th>RatingTomatometer</th>\n",
       "      <th>Title</th>\n",
       "      <th>No. of Reviews</th>\n",
       "    </tr>\n",
       "  </thead>\n",
       "  <tbody>\n",
       "    <tr>\n",
       "      <th>0</th>\n",
       "      <td>1.0</td>\n",
       "      <td>99%</td>\n",
       "      <td>It Happened One Night (1934)</td>\n",
       "      <td>96</td>\n",
       "    </tr>\n",
       "    <tr>\n",
       "      <th>1</th>\n",
       "      <td>2.0</td>\n",
       "      <td>98%</td>\n",
       "      <td>Modern Times (1936)</td>\n",
       "      <td>108</td>\n",
       "    </tr>\n",
       "    <tr>\n",
       "      <th>2</th>\n",
       "      <td>3.0</td>\n",
       "      <td>96%</td>\n",
       "      <td>Black Panther (2018)</td>\n",
       "      <td>521</td>\n",
       "    </tr>\n",
       "    <tr>\n",
       "      <th>3</th>\n",
       "      <td>4.0</td>\n",
       "      <td>99%</td>\n",
       "      <td>The Wizard of Oz (1939)</td>\n",
       "      <td>145</td>\n",
       "    </tr>\n",
       "    <tr>\n",
       "      <th>4</th>\n",
       "      <td>5.0</td>\n",
       "      <td>99%</td>\n",
       "      <td>Citizen Kane (1941)</td>\n",
       "      <td>116</td>\n",
       "    </tr>\n",
       "    <tr>\n",
       "      <th>...</th>\n",
       "      <td>...</td>\n",
       "      <td>...</td>\n",
       "      <td>...</td>\n",
       "      <td>...</td>\n",
       "    </tr>\n",
       "    <tr>\n",
       "      <th>95</th>\n",
       "      <td>96.0</td>\n",
       "      <td>100%</td>\n",
       "      <td>The Philadelphia Story (1940)</td>\n",
       "      <td>63</td>\n",
       "    </tr>\n",
       "    <tr>\n",
       "      <th>96</th>\n",
       "      <td>97.0</td>\n",
       "      <td>99%</td>\n",
       "      <td>Shoplifters (Manbiki kazoku) (2018)</td>\n",
       "      <td>226</td>\n",
       "    </tr>\n",
       "    <tr>\n",
       "      <th>97</th>\n",
       "      <td>98.0</td>\n",
       "      <td>100%</td>\n",
       "      <td>M (1931)</td>\n",
       "      <td>60</td>\n",
       "    </tr>\n",
       "    <tr>\n",
       "      <th>98</th>\n",
       "      <td>99.0</td>\n",
       "      <td>97%</td>\n",
       "      <td>Metropolis (1927)</td>\n",
       "      <td>133</td>\n",
       "    </tr>\n",
       "    <tr>\n",
       "      <th>99</th>\n",
       "      <td>100.0</td>\n",
       "      <td>98%</td>\n",
       "      <td>Jaws (1975)</td>\n",
       "      <td>91</td>\n",
       "    </tr>\n",
       "  </tbody>\n",
       "</table>\n",
       "<p>100 rows × 4 columns</p>\n",
       "</div>"
      ],
      "text/plain": [
       "     Rank RatingTomatometer                                Title  \\\n",
       "0     1.0               99%         It Happened One Night (1934)   \n",
       "1     2.0               98%                  Modern Times (1936)   \n",
       "2     3.0               96%                 Black Panther (2018)   \n",
       "3     4.0               99%              The Wizard of Oz (1939)   \n",
       "4     5.0               99%                  Citizen Kane (1941)   \n",
       "..    ...               ...                                  ...   \n",
       "95   96.0              100%        The Philadelphia Story (1940)   \n",
       "96   97.0               99%  Shoplifters (Manbiki kazoku) (2018)   \n",
       "97   98.0              100%                             M (1931)   \n",
       "98   99.0               97%                    Metropolis (1927)   \n",
       "99  100.0               98%                          Jaws (1975)   \n",
       "\n",
       "    No. of Reviews  \n",
       "0               96  \n",
       "1              108  \n",
       "2              521  \n",
       "3              145  \n",
       "4              116  \n",
       "..             ...  \n",
       "95              63  \n",
       "96             226  \n",
       "97              60  \n",
       "98             133  \n",
       "99              91  \n",
       "\n",
       "[100 rows x 4 columns]"
      ]
     },
     "execution_count": 4,
     "metadata": {},
     "output_type": "execute_result"
    }
   ],
   "source": [
    "tables[2]"
   ]
  },
  {
   "cell_type": "code",
   "execution_count": null,
   "id": "d7e58711",
   "metadata": {},
   "outputs": [],
   "source": [
    "url = \"https://www.imdb.com/search/title/?groups=top_100&sort=user_rating,desc&view=simple\"\n",
    "browser.visit(url)\n",
    "html = browser.html\n",
    "soup = bs(html,'html.parser')\n",
    "pieces = soup.find_all('div', class_='lister-item')\n",
    "for piece in pieces:\n",
    "    title = (piece.find('h3', class_='lister-item-header').text).replace('\\n', '')\n",
    "    rating = piece.find('div', class_='ratings-imdb-rating').text\n"
   ]
  },
  {
   "cell_type": "code",
   "execution_count": null,
   "id": "55ba22ae",
   "metadata": {},
   "outputs": [],
   "source": [
    "print(title)"
   ]
  },
  {
   "cell_type": "code",
   "execution_count": null,
   "id": "ff83452a",
   "metadata": {},
   "outputs": [],
   "source": [
    "url = 'https://www.imdb.com/search/title/?groups=top_100&sort=user_rating,desc&ref_=adv_prv'\n",
    "browser.visit(url)\n",
    "html = browser.html\n",
    "soup = bs(html, 'html.parser')\n",
    "pieces = soup.find_all('div', class_='lister-item')\n",
    "item_list = []\n",
    "for piece in pieces:\n",
    "    title = (piece.find('h3', class_='lister-item-header').text).replace('\\n', '')\n",
    "    rating = piece.find('div', class_='ratings-imdb-rating').text.replace('\\n', '')\n",
    "    item_list.append([title,rating])\n",
    "browser.links.find_by_partial_text('Next').click()"
   ]
  },
  {
   "cell_type": "code",
   "execution_count": 9,
   "id": "89c5a429",
   "metadata": {},
   "outputs": [],
   "source": [
    "url = 'https://www.imdb.com/search/title/?groups=top_100&sort=user_rating,desc&ref_=adv_prv'\n",
    "browser.visit(url)\n",
    "html = browser.html\n",
    "soup = bs(html, 'html.parser')\n",
    "pieces = soup.find_all('div', class_='lister-item')\n",
    "item_list = []\n",
    "for piece in pieces:\n",
    "    title = (piece.find('h3', class_='lister-item-header').text).replace('\\n', '')\n",
    "    rating = piece.find('div', class_='ratings-imdb-rating').text.replace('\\n', '')\n",
    "    item_list.append([title,rating])\n",
    "browser.links.find_by_partial_text('Next').click()\n",
    "html = browser.html\n",
    "soup = bs(html, 'html.parser')\n",
    "pieces = soup.find_all('div', class_='lister-item')\n",
    "for piece in pieces:\n",
    "    title = (piece.find('h3', class_='lister-item-header').text).replace('\\n', '')\n",
    "    rating = piece.find('div', class_='ratings-imdb-rating').text.replace('\\n', '')\n",
    "    item_list.append([title,rating])"
   ]
  },
  {
   "cell_type": "code",
   "execution_count": 10,
   "id": "baf00cce",
   "metadata": {},
   "outputs": [
    {
     "name": "stdout",
     "output_type": "stream",
     "text": [
      "[['1.The Shawshank Redemption(1994)', '9.3'], ['2.The Godfather(1972)', '9.2'], ['3.The Dark Knight(2008)', '9.0'], ['4.The Godfather: Part II(1974)', '9.0'], ['5.12 Angry Men(1957)', '9.0'], ['6.The Lord of the Rings: The Return of the King(2003)', '8.9'], ['7.Pulp Fiction(1994)', '8.9'], [\"8.Schindler's List(1993)\", '8.9'], ['9.Inception(2010)', '8.8'], ['10.Fight Club(1999)', '8.8'], ['11.The Lord of the Rings: The Fellowship of the Ring(2001)', '8.8'], ['12.Forrest Gump(1994)', '8.8'], ['13.The Good, the Bad and the Ugly(1966)', '8.8'], ['14.The Lord of the Rings: The Two Towers(2002)', '8.7'], ['15.The Matrix(1999)', '8.7'], ['16.Goodfellas(1990)', '8.7'], ['17.Star Wars: Episode V - The Empire Strikes Back(1980)', '8.7'], [\"18.One Flew Over the Cuckoo's Nest(1975)\", '8.7'], ['19.Parasite(2019)', '8.6'], ['20.Interstellar(2014)', '8.6'], ['21.City of God(2002)', '8.6'], ['22.Spirited Away(2001)', '8.6'], ['23.Saving Private Ryan(1998)', '8.6'], ['24.The Green Mile(1999)', '8.6'], ['25.Life Is Beautiful(1997)', '8.6'], ['26.Se7en(1995)', '8.6'], ['27.The Silence of the Lambs(1991)', '8.6'], ['28.Star Wars: Episode IV - A New Hope(1977)', '8.6'], ['29.Hara-Kiri(1962)', '8.6'], ['30.Pather Panchali(1955)', '8.6'], ['31.Seven Samurai(1954)', '8.6'], [\"32.It's a Wonderful Life(1946)\", '8.6'], ['33.Hamilton(2020)', '8.5'], ['34.Whiplash(2014)', '8.5'], ['35.The Intouchables(2011)', '8.5'], ['36.The Prestige(2006)', '8.5'], ['37.The Departed(2006)', '8.5'], ['38.The Pianist(2002)', '8.5'], ['39.Gladiator(2000)', '8.5'], ['40.American History X(1998)', '8.5'], ['41.The Usual Suspects(1995)', '8.5'], ['42.Léon: The Professional(1994)', '8.5'], ['43.The Lion King(1994)', '8.5'], ['44.Terminator 2: Judgment Day(1991)', '8.5'], ['45.Cinema Paradiso(1988)', '8.5'], ['46.Grave of the Fireflies(1988)', '8.5'], ['47.Back to the Future(1985)', '8.5'], ['48.Once Upon a Time in the West(1968)', '8.5'], ['49.Psycho(1960)', '8.5'], ['50.Rear Window(1954)', '8.5'], ['51.Casablanca(1942)', '8.5'], ['52.Modern Times(1936)', '8.5'], ['53.City Lights(1931)', '8.5'], ['54.Capernaum(2018)', '8.4'], ['55.Joker(2019)', '8.4'], ['56.Your Name.(2016)', '8.4'], ['57.Spider-Man: Into the Spider-Verse(2018)', '8.4'], ['58.Avengers: Endgame(2019)', '8.4'], ['59.Avengers: Infinity War(2018)', '8.4'], ['60.Coco(I) (2017)', '8.4'], ['61.Django Unchained(2012)', '8.4'], ['62.The Dark Knight Rises(2012)', '8.4'], ['63.3 Idiots(2009)', '8.4'], ['64.Like Stars on Earth(2007)', '8.4'], ['65.WALL·E(2008)', '8.4'], ['66.The Lives of Others(2006)', '8.4'], ['67.Oldboy(2003)', '8.4'], ['68.Memento(2000)', '8.4'], ['69.Princess Mononoke(1997)', '8.4'], ['70.Once Upon a Time in America(1984)', '8.4'], ['71.Indiana Jones and the Raiders of the Lost Ark(1981)', '8.4'], ['72.The Shining(1980)', '8.4'], ['73.Apocalypse Now(1979)', '8.4'], ['74.Alien(1979)', '8.4'], ['75.High and Low(1963)', '8.4'], ['76.Dr. Strangelove or: How I Learned to Stop Worrying and Love the Bomb(1964)', '8.4'], ['77.Witness for the Prosecution(1957)', '8.4'], ['78.Paths of Glory(1957)', '8.4'], ['79.Sunset Blvd.(1950)', '8.4'], ['80.The Great Dictator(1940)', '8.4'], ['81.The Hunt(2012)', '8.3'], ['82.Inglourious Basterds(2009)', '8.3'], ['83.Eternal Sunshine of the Spotless Mind(2004)', '8.3'], ['84.Requiem for a Dream(2000)', '8.3'], ['85.American Beauty(1999)', '8.3'], ['86.Good Will Hunting(1997)', '8.3'], ['87.Toy Story(1995)', '8.3'], ['88.Braveheart(1995)', '8.3'], ['89.Reservoir Dogs(1992)', '8.3'], ['90.Come and See(1985)', '8.3'], ['91.Aliens(1986)', '8.3'], ['92.Amadeus(1984)', '8.3'], ['93.Star Wars: Episode VI - Return of the Jedi(1983)', '8.3'], ['94.Das Boot(1981)', '8.3'], ['95.2001: A Space Odyssey(1968)', '8.3'], ['96.North by Northwest(1959)', '8.3'], ['97.Vertigo(1958)', '8.3'], [\"98.Singin' in the Rain(1952)\", '8.3'], ['99.Citizen Kane(1941)', '8.3'], ['100.M(1931)', '8.3']]\n"
     ]
    }
   ],
   "source": [
    "print (item_list)"
   ]
  },
  {
   "cell_type": "code",
   "execution_count": null,
   "id": "628ce6a3",
   "metadata": {},
   "outputs": [],
   "source": []
  }
 ],
 "metadata": {
  "kernelspec": {
   "display_name": "Python 3",
   "language": "python",
   "name": "python3"
  },
  "language_info": {
   "codemirror_mode": {
    "name": "ipython",
    "version": 3
   },
   "file_extension": ".py",
   "mimetype": "text/x-python",
   "name": "python",
   "nbconvert_exporter": "python",
   "pygments_lexer": "ipython3",
   "version": "3.6.10"
  }
 },
 "nbformat": 4,
 "nbformat_minor": 5
}
