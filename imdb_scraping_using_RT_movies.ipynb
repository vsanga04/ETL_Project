{
 "cells": [
  {
   "cell_type": "markdown",
   "id": "tracked-coach",
   "metadata": {},
   "source": [
    "IMDB scraping using RT top 100 movie list"
   ]
  },
  {
   "cell_type": "code",
   "execution_count": null,
   "id": "constant-berkeley",
   "metadata": {},
   "outputs": [],
   "source": [
    "import pandas as pd"
   ]
  },
  {
   "cell_type": "code",
   "execution_count": null,
   "id": "engaged-wound",
   "metadata": {},
   "outputs": [],
   "source": [
    "df_rt = pd.read_csv('RT_ratings.csv')\n",
    "df_rt.head(15)"
   ]
  },
  {
   "cell_type": "code",
   "execution_count": 27,
   "id": "sophisticated-expert",
   "metadata": {},
   "outputs": [
    {
     "data": {
      "text/plain": [
       "['It Happened One Night',\n",
       " 'Modern Times',\n",
       " 'Black Panther',\n",
       " 'The Wizard of Oz',\n",
       " 'Citizen Kane',\n",
       " 'Parasite (Gisaengchung',\n",
       " 'Avengers: Endgame',\n",
       " 'Casablanca',\n",
       " 'Knives Out',\n",
       " 'Us',\n",
       " 'Toy Story',\n",
       " 'Lady Bird',\n",
       " 'Mission: Impossible - Fallout',\n",
       " 'BlacKkKlansman',\n",
       " 'Get Out',\n",
       " 'The Irishman',\n",
       " 'The Godfather',\n",
       " 'Mad Max: Fury Road',\n",
       " 'Spider-Man: Into the Spider-Verse',\n",
       " 'All About Eve',\n",
       " 'Moonlight',\n",
       " 'Wonder Woman',\n",
       " 'Rebecca',\n",
       " 'A Star Is Born',\n",
       " 'The Cabinet of Dr. Caligari (Das Cabinet des Dr. Caligari',\n",
       " 'Inside Out',\n",
       " 'A Quiet Place',\n",
       " 'Eighth Grade',\n",
       " 'Roma',\n",
       " 'Booksmart',\n",
       " 'Dunkirk',\n",
       " 'Coco',\n",
       " 'A Night at the Opera',\n",
       " 'Portrait of a Lady on Fire (Portrait de la jeune fille en feu',\n",
       " 'Selma',\n",
       " 'The Farewell',\n",
       " 'The Shape of Water',\n",
       " 'Thor: Ragnarok',\n",
       " 'Spotlight',\n",
       " 'Seven Samurai (Shichinin no Samurai',\n",
       " 'The Third Man',\n",
       " 'La Grande illusion (Grand Illusion',\n",
       " 'Arrival',\n",
       " \"Singin' in the Rain\",\n",
       " 'The Favourite',\n",
       " 'An American in Paris',\n",
       " 'Logan',\n",
       " 'Snow White and the Seven Dwarfs',\n",
       " 'On the Waterfront',\n",
       " 'All Quiet on the Western Front',\n",
       " 'Double Indemnity',\n",
       " 'Marriage Story',\n",
       " 'The Big Sick',\n",
       " 'E.T. The Extra-Terrestrial',\n",
       " 'Star Wars: The Last Jedi',\n",
       " 'Star Wars: Episode VII - The Force Awakens',\n",
       " 'Boyhood',\n",
       " 'The Best Years of Our Lives',\n",
       " 'The Adventures of Robin Hood',\n",
       " '12 Years a Slave',\n",
       " 'Manchester by the Sea',\n",
       " 'Once Upon a Time In Hollywood',\n",
       " 'Argo',\n",
       " 'Leave No Trace',\n",
       " 'The Kid',\n",
       " 'La La Land',\n",
       " 'Nosferatu, a Symphony of Horror (Nosferatu, eine Symphonie des Grauens) (Nosferatu the Vampire',\n",
       " 'Alien',\n",
       " 'Spider-Man: Far From Home',\n",
       " 'Incredibles',\n",
       " 'King Kong',\n",
       " 'Laura',\n",
       " 'Call Me by Your Name',\n",
       " 'Psycho',\n",
       " 'Zootopia',\n",
       " 'Shadow of a Doubt',\n",
       " 'War for the Planet of the Apes',\n",
       " 'Paddington',\n",
       " 'Gravity',\n",
       " nan,\n",
       " 'The Maltese Falcon',\n",
       " 'The Florida Project',\n",
       " 'Sunset Boulevard',\n",
       " 'Widows',\n",
       " \"A Hard Day's Night\",\n",
       " 'The Invisible Man',\n",
       " 'The Godfather, Part II',\n",
       " 'The Battle of Algiers (La Battaglia di Algeri',\n",
       " 'Baby Driver',\n",
       " 'Spider-Man: Homecoming',\n",
       " 'North by Northwest',\n",
       " 'Top Hat',\n",
       " 'Never Rarely Sometimes Always',\n",
       " 'Pain and Glory (Dolor y gloria',\n",
       " \"Schindler's List\",\n",
       " 'The Philadelphia Story',\n",
       " 'Shoplifters (Manbiki kazoku',\n",
       " 'M',\n",
       " 'Metropolis',\n",
       " 'Jaws']"
      ]
     },
     "execution_count": 27,
     "metadata": {},
     "output_type": "execute_result"
    }
   ],
   "source": [
    "movie_names = df_rt['Title'].to_list()\n",
    "movie_names"
   ]
  },
  {
   "cell_type": "code",
   "execution_count": 32,
   "id": "adaptive-stable",
   "metadata": {},
   "outputs": [
    {
     "name": "stdout",
     "output_type": "stream",
     "text": [
      "{'It Happened One Night'} {'8.1'}\n",
      "{'Modern Times'} {'8.5'}\n",
      "{'Black Panther'} {'7.3'}\n",
      "{'The Wizard of Oz'} {'8.0'}\n",
      "{'Citizen Kane'} {'8.3'}\n"
     ]
    },
    {
     "ename": "KeyError",
     "evalue": "'imdbRating'",
     "output_type": "error",
     "traceback": [
      "\u001b[1;31m---------------------------------------------------------------------------\u001b[0m",
      "\u001b[1;31mKeyError\u001b[0m                                  Traceback (most recent call last)",
      "\u001b[1;32m<ipython-input-32-a1f082403cfb>\u001b[0m in \u001b[0;36m<module>\u001b[1;34m\u001b[0m\n\u001b[0;32m     12\u001b[0m     \u001b[0mmovie_data\u001b[0m \u001b[1;33m=\u001b[0m \u001b[0mrequests\u001b[0m\u001b[1;33m.\u001b[0m\u001b[0mget\u001b[0m\u001b[1;33m(\u001b[0m\u001b[0murl\u001b[0m \u001b[1;33m+\u001b[0m \u001b[0mmovie\u001b[0m\u001b[1;33m)\u001b[0m\u001b[1;33m.\u001b[0m\u001b[0mjson\u001b[0m\u001b[1;33m(\u001b[0m\u001b[1;33m)\u001b[0m\u001b[1;33m\u001b[0m\u001b[1;33m\u001b[0m\u001b[0m\n\u001b[0;32m     13\u001b[0m     \u001b[0mresponses\u001b[0m\u001b[1;33m.\u001b[0m\u001b[0mappend\u001b[0m\u001b[1;33m(\u001b[0m\u001b[0mmovie_data\u001b[0m\u001b[1;33m)\u001b[0m\u001b[1;33m\u001b[0m\u001b[1;33m\u001b[0m\u001b[0m\n\u001b[1;32m---> 14\u001b[1;33m     \u001b[0mprint\u001b[0m\u001b[1;33m(\u001b[0m\u001b[1;33m{\u001b[0m\u001b[0mmovie\u001b[0m\u001b[1;33m}\u001b[0m\u001b[1;33m,\u001b[0m \u001b[1;33m{\u001b[0m\u001b[0mmovie_data\u001b[0m\u001b[1;33m[\u001b[0m\u001b[1;34m\"imdbRating\"\u001b[0m\u001b[1;33m]\u001b[0m\u001b[1;33m}\u001b[0m\u001b[1;33m)\u001b[0m\u001b[1;33m\u001b[0m\u001b[1;33m\u001b[0m\u001b[0m\n\u001b[0m",
      "\u001b[1;31mKeyError\u001b[0m: 'imdbRating'"
     ]
    }
   ],
   "source": [
    "import requests\n",
    "from config import api_key\n",
    "\n",
    "url = \"http://www.omdbapi.com/?apikey=\" + api_key + \"&t=\"\n",
    "\n",
    "movies = df_rt['Title']\n",
    "\n",
    "responses = []\n",
    "\n",
    "for movie in movies:\n",
    "    movie_data = requests.get(url + movie).json()\n",
    "    responses.append(movie_data)\n",
    "    print({movie}, {movie_data[\"imdbRating\"]})\n"
   ]
  },
  {
   "cell_type": "code",
   "execution_count": null,
   "id": "characteristic-dodge",
   "metadata": {},
   "outputs": [],
   "source": []
  }
 ],
 "metadata": {
  "kernelspec": {
   "display_name": "Python [conda env:PythonData] *",
   "language": "python",
   "name": "conda-env-PythonData-py"
  },
  "language_info": {
   "codemirror_mode": {
    "name": "ipython",
    "version": 3
   },
   "file_extension": ".py",
   "mimetype": "text/x-python",
   "name": "python",
   "nbconvert_exporter": "python",
   "pygments_lexer": "ipython3",
   "version": "3.6.10"
  }
 },
 "nbformat": 4,
 "nbformat_minor": 5
}
