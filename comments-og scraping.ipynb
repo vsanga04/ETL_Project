{
 "cells": [
  {
   "cell_type": "markdown",
   "id": "fixed-breathing",
   "metadata": {},
   "source": [
    "# Scraped rottentomatoes and imdb for their top 100 movies\n"
   ]
  },
  {
   "cell_type": "markdown",
   "id": "indian-packaging",
   "metadata": {},
   "source": [
    "# imported pandas for dataframe and output of csv files\n",
    "# beautiful soup, silenium, webdriver, splinter for scraping the websites"
   ]
  },
  {
   "cell_type": "code",
   "execution_count": 16,
   "id": "136fca5c",
   "metadata": {},
   "outputs": [],
   "source": [
    "import pandas as pd \n",
    "from bs4 import BeautifulSoup as bs\n",
    "from webdriver_manager.chrome import ChromeDriverManager\n",
    "from selenium import webdriver\n",
    "from webdriver_manager.chrome import ChromeDriverManager\n",
    "import nbconvert\n",
    "import requests\n",
    "import time\n",
    "from splinter import Browser\n",
    "\n",
    "from pandas import DataFrame"
   ]
  },
  {
   "cell_type": "code",
   "execution_count": null,
   "id": "needed-vaccine",
   "metadata": {},
   "outputs": [],
   "source": []
  },
  {
   "cell_type": "code",
   "execution_count": 2,
   "id": "1de8192e",
   "metadata": {},
   "outputs": [
    {
     "name": "stderr",
     "output_type": "stream",
     "text": [
      "\n",
      "\n",
      "====== WebDriver manager ======\n",
      "Current google-chrome version is 90.0.4430\n",
      "Get LATEST driver version for 90.0.4430\n",
      "Driver [C:\\Users\\17076\\.wdm\\drivers\\chromedriver\\win32\\90.0.4430.24\\chromedriver.exe] found in cache\n"
     ]
    }
   ],
   "source": [
    "executable_path = {'executable_path': ChromeDriverManager().install()}\n",
    "browser = Browser('chrome', **executable_path, headless=False)"
   ]
  },
  {
   "cell_type": "code",
   "execution_count": 3,
   "id": "2a8eb6e5",
   "metadata": {},
   "outputs": [],
   "source": [
    "Movies = [\"Toy Story\",\"Men in Black\", \"Detective Pikachu\"]\n",
    "url = \"https://www.rottentomatoes.com/top/bestofrt/\"\n",
    "browser.visit(url)\n",
    "html = browser.html\n",
    "soup = bs(html,'html.parser')\n",
    "tables = pd.read_html(url)"
   ]
  },
  {
   "cell_type": "code",
   "execution_count": 19,
   "id": "bde91083",
   "metadata": {},
   "outputs": [
    {
     "data": {
      "text/html": [
       "<div>\n",
       "<style scoped>\n",
       "    .dataframe tbody tr th:only-of-type {\n",
       "        vertical-align: middle;\n",
       "    }\n",
       "\n",
       "    .dataframe tbody tr th {\n",
       "        vertical-align: top;\n",
       "    }\n",
       "\n",
       "    .dataframe thead th {\n",
       "        text-align: right;\n",
       "    }\n",
       "</style>\n",
       "<table border=\"1\" class=\"dataframe\">\n",
       "  <thead>\n",
       "    <tr style=\"text-align: right;\">\n",
       "      <th></th>\n",
       "      <th>Rank</th>\n",
       "      <th>RatingTomatometer</th>\n",
       "      <th>Title</th>\n",
       "      <th>No. of Reviews</th>\n",
       "    </tr>\n",
       "  </thead>\n",
       "  <tbody>\n",
       "    <tr>\n",
       "      <th>0</th>\n",
       "      <td>1.0</td>\n",
       "      <td>99%</td>\n",
       "      <td>It Happened One Night (1934)</td>\n",
       "      <td>96</td>\n",
       "    </tr>\n",
       "    <tr>\n",
       "      <th>1</th>\n",
       "      <td>2.0</td>\n",
       "      <td>98%</td>\n",
       "      <td>Modern Times (1936)</td>\n",
       "      <td>108</td>\n",
       "    </tr>\n",
       "    <tr>\n",
       "      <th>2</th>\n",
       "      <td>3.0</td>\n",
       "      <td>96%</td>\n",
       "      <td>Black Panther (2018)</td>\n",
       "      <td>521</td>\n",
       "    </tr>\n",
       "    <tr>\n",
       "      <th>3</th>\n",
       "      <td>4.0</td>\n",
       "      <td>99%</td>\n",
       "      <td>The Wizard of Oz (1939)</td>\n",
       "      <td>145</td>\n",
       "    </tr>\n",
       "    <tr>\n",
       "      <th>4</th>\n",
       "      <td>5.0</td>\n",
       "      <td>99%</td>\n",
       "      <td>Citizen Kane (1941)</td>\n",
       "      <td>116</td>\n",
       "    </tr>\n",
       "  </tbody>\n",
       "</table>\n",
       "</div>"
      ],
      "text/plain": [
       "   Rank RatingTomatometer                         Title  No. of Reviews\n",
       "0   1.0               99%  It Happened One Night (1934)              96\n",
       "1   2.0               98%           Modern Times (1936)             108\n",
       "2   3.0               96%          Black Panther (2018)             521\n",
       "3   4.0               99%       The Wizard of Oz (1939)             145\n",
       "4   5.0               99%           Citizen Kane (1941)             116"
      ]
     },
     "execution_count": 19,
     "metadata": {},
     "output_type": "execute_result"
    }
   ],
   "source": [
    "df = tables[2]\n",
    "df.head()"
   ]
  },
  {
   "cell_type": "markdown",
   "id": "final-unknown",
   "metadata": {},
   "source": [
    "# csv output of rottentomatoes list"
   ]
  },
  {
   "cell_type": "code",
   "execution_count": 5,
   "id": "variable-recovery",
   "metadata": {},
   "outputs": [],
   "source": [
    "\n",
    "csv_output = df.to_csv(\"rottentomatoes_100\")"
   ]
  },
  {
   "cell_type": "markdown",
   "id": "angry-clause",
   "metadata": {},
   "source": [
    "# tested imdb scrape"
   ]
  },
  {
   "cell_type": "code",
   "execution_count": null,
   "id": "d7e58711",
   "metadata": {},
   "outputs": [],
   "source": [
    "# url = \"https://www.imdb.com/search/title/?groups=top_100&sort=user_rating,desc&view=simple\"\n",
    "# browser.visit(url)\n",
    "# html = browser.html\n",
    "# soup = bs(html,'html.parser')\n",
    "# pieces = soup.find_all('div', class_='lister-item')\n",
    "# for piece in pieces:\n",
    "#     title = (piece.find('h3', class_='lister-item-header').text).replace('\\n', '')\n",
    "#     rating = piece.find('div', class_='ratings-imdb-rating').text).replace('\\n', '')\n"
   ]
  },
  {
   "cell_type": "code",
   "execution_count": null,
   "id": "55ba22ae",
   "metadata": {},
   "outputs": [],
   "source": [
    "# print(title)"
   ]
  },
  {
   "cell_type": "code",
   "execution_count": null,
   "id": "ff83452a",
   "metadata": {},
   "outputs": [],
   "source": [
    "# url = 'https://www.imdb.com/search/title/?groups=top_100&sort=user_rating,desc&ref_=adv_prv'\n",
    "# browser.visit(url)\n",
    "# html = browser.html\n",
    "# soup = bs(html, 'html.parser')\n",
    "# pieces = soup.find_all('div', class_='lister-item')\n",
    "# item_list = []\n",
    "# for piece in pieces:\n",
    "#     title = (piece.find('h3', class_='lister-item-header').text).replace('\\n', '')\n",
    "#     rating = piece.find('div', class_='ratings-imdb-rating').text.replace('\\n', '')\n",
    "#     item_list.append([title,rating])\n",
    "# browser.links.find_by_partial_text('Next').click()"
   ]
  },
  {
   "cell_type": "markdown",
   "id": "nervous-maria",
   "metadata": {},
   "source": [
    "# scraped 2 pages from imdb for the top 100 movies"
   ]
  },
  {
   "cell_type": "code",
   "execution_count": 8,
   "id": "89c5a429",
   "metadata": {},
   "outputs": [],
   "source": [
    "url = 'https://www.imdb.com/search/title/?groups=top_100&sort=user_rating,desc&ref_=adv_prv'\n",
    "browser.visit(url)\n",
    "html = browser.html\n",
    "soup = bs(html, 'html.parser')\n",
    "pieces = soup.find_all('div', class_='lister-item')\n",
    "item_list = []\n",
    "for piece in pieces:\n",
    "    title = (piece.find('h3', class_='lister-item-header').text).replace('\\n', '')\n",
    "    rating = piece.find('div', class_='ratings-imdb-rating').text.replace('\\n', '')\n",
    "    item_list.append([title,rating])\n",
    "    \n",
    "browser.links.find_by_partial_text('Next').click()\n",
    "html = browser.html\n",
    "soup = bs(html, 'html.parser')\n",
    "pieces = soup.find_all('div', class_='lister-item')\n",
    "for piece in pieces:\n",
    "    title = (piece.find('h3', class_='lister-item-header').text).replace('\\n', '')\n",
    "    rating = piece.find('div', class_='ratings-imdb-rating').text.replace('\\n', '')\n",
    "    item_list.append([title,rating])"
   ]
  },
  {
   "cell_type": "code",
   "execution_count": 11,
   "id": "baf00cce",
   "metadata": {},
   "outputs": [
    {
     "data": {
      "text/plain": [
       "[['1.The Shawshank Redemption(1994)', '9.3'],\n",
       " ['2.The Godfather(1972)', '9.2'],\n",
       " ['3.The Dark Knight(2008)', '9.0'],\n",
       " ['4.The Godfather: Part II(1974)', '9.0'],\n",
       " ['5.12 Angry Men(1957)', '9.0'],\n",
       " ['6.The Lord of the Rings: The Return of the King(2003)', '8.9'],\n",
       " ['7.Pulp Fiction(1994)', '8.9'],\n",
       " [\"8.Schindler's List(1993)\", '8.9'],\n",
       " ['9.Inception(2010)', '8.8'],\n",
       " ['10.Fight Club(1999)', '8.8'],\n",
       " ['11.The Lord of the Rings: The Fellowship of the Ring(2001)', '8.8'],\n",
       " ['12.Forrest Gump(1994)', '8.8'],\n",
       " ['13.The Good, the Bad and the Ugly(1966)', '8.8'],\n",
       " ['14.The Lord of the Rings: The Two Towers(2002)', '8.7'],\n",
       " ['15.The Matrix(1999)', '8.7'],\n",
       " ['16.Goodfellas(1990)', '8.7'],\n",
       " ['17.Star Wars: Episode V - The Empire Strikes Back(1980)', '8.7'],\n",
       " [\"18.One Flew Over the Cuckoo's Nest(1975)\", '8.7'],\n",
       " ['19.Parasite(2019)', '8.6'],\n",
       " ['20.Interstellar(2014)', '8.6'],\n",
       " ['21.City of God(2002)', '8.6'],\n",
       " ['22.Spirited Away(2001)', '8.6'],\n",
       " ['23.Saving Private Ryan(1998)', '8.6'],\n",
       " ['24.The Green Mile(1999)', '8.6'],\n",
       " ['25.Life Is Beautiful(1997)', '8.6'],\n",
       " ['26.Se7en(1995)', '8.6'],\n",
       " ['27.The Silence of the Lambs(1991)', '8.6'],\n",
       " ['28.Star Wars: Episode IV - A New Hope(1977)', '8.6'],\n",
       " ['29.Hara-Kiri(1962)', '8.6'],\n",
       " ['30.Pather Panchali(1955)', '8.6'],\n",
       " ['31.Seven Samurai(1954)', '8.6'],\n",
       " [\"32.It's a Wonderful Life(1946)\", '8.6'],\n",
       " ['33.Hamilton(2020)', '8.5'],\n",
       " ['34.Whiplash(2014)', '8.5'],\n",
       " ['35.The Intouchables(2011)', '8.5'],\n",
       " ['36.The Prestige(2006)', '8.5'],\n",
       " ['37.The Departed(2006)', '8.5'],\n",
       " ['38.The Pianist(2002)', '8.5'],\n",
       " ['39.Gladiator(2000)', '8.5'],\n",
       " ['40.American History X(1998)', '8.5'],\n",
       " ['41.The Usual Suspects(1995)', '8.5'],\n",
       " ['42.Léon: The Professional(1994)', '8.5'],\n",
       " ['43.The Lion King(1994)', '8.5'],\n",
       " ['44.Terminator 2: Judgment Day(1991)', '8.5'],\n",
       " ['45.Cinema Paradiso(1988)', '8.5'],\n",
       " ['46.Grave of the Fireflies(1988)', '8.5'],\n",
       " ['47.Back to the Future(1985)', '8.5'],\n",
       " ['48.Once Upon a Time in the West(1968)', '8.5'],\n",
       " ['49.Psycho(1960)', '8.5'],\n",
       " ['50.Rear Window(1954)', '8.5'],\n",
       " ['51.Casablanca(1942)', '8.5'],\n",
       " ['52.Modern Times(1936)', '8.5'],\n",
       " ['53.City Lights(1931)', '8.5'],\n",
       " ['54.Capernaum(2018)', '8.4'],\n",
       " ['55.Joker(2019)', '8.4'],\n",
       " ['56.Your Name.(2016)', '8.4'],\n",
       " ['57.Spider-Man: Into the Spider-Verse(2018)', '8.4'],\n",
       " ['58.Avengers: Endgame(2019)', '8.4'],\n",
       " ['59.Avengers: Infinity War(2018)', '8.4'],\n",
       " ['60.Coco(I) (2017)', '8.4'],\n",
       " ['61.Django Unchained(2012)', '8.4'],\n",
       " ['62.The Dark Knight Rises(2012)', '8.4'],\n",
       " ['63.3 Idiots(2009)', '8.4'],\n",
       " ['64.Like Stars on Earth(2007)', '8.4'],\n",
       " ['65.WALL·E(2008)', '8.4'],\n",
       " ['66.The Lives of Others(2006)', '8.4'],\n",
       " ['67.Oldboy(2003)', '8.4'],\n",
       " ['68.Memento(2000)', '8.4'],\n",
       " ['69.Princess Mononoke(1997)', '8.4'],\n",
       " ['70.Once Upon a Time in America(1984)', '8.4'],\n",
       " ['71.Indiana Jones and the Raiders of the Lost Ark(1981)', '8.4'],\n",
       " ['72.The Shining(1980)', '8.4'],\n",
       " ['73.Apocalypse Now(1979)', '8.4'],\n",
       " ['74.Alien(1979)', '8.4'],\n",
       " ['75.High and Low(1963)', '8.4'],\n",
       " ['76.Dr. Strangelove or: How I Learned to Stop Worrying and Love the Bomb(1964)',\n",
       "  '8.4'],\n",
       " ['77.Witness for the Prosecution(1957)', '8.4'],\n",
       " ['78.Paths of Glory(1957)', '8.4'],\n",
       " ['79.Sunset Blvd.(1950)', '8.4'],\n",
       " ['80.The Great Dictator(1940)', '8.4'],\n",
       " ['81.The Hunt(2012)', '8.3'],\n",
       " ['82.Inglourious Basterds(2009)', '8.3'],\n",
       " ['83.Eternal Sunshine of the Spotless Mind(2004)', '8.3'],\n",
       " ['84.Requiem for a Dream(2000)', '8.3'],\n",
       " ['85.American Beauty(1999)', '8.3'],\n",
       " ['86.Good Will Hunting(1997)', '8.3'],\n",
       " ['87.Toy Story(1995)', '8.3'],\n",
       " ['88.Braveheart(1995)', '8.3'],\n",
       " ['89.Reservoir Dogs(1992)', '8.3'],\n",
       " ['90.Come and See(1985)', '8.3'],\n",
       " ['91.Aliens(1986)', '8.3'],\n",
       " ['92.Amadeus(1984)', '8.3'],\n",
       " ['93.Star Wars: Episode VI - Return of the Jedi(1983)', '8.3'],\n",
       " ['94.Das Boot(1981)', '8.3'],\n",
       " ['95.2001: A Space Odyssey(1968)', '8.3'],\n",
       " ['96.North by Northwest(1959)', '8.3'],\n",
       " ['97.Vertigo(1958)', '8.3'],\n",
       " [\"98.Singin' in the Rain(1952)\", '8.3'],\n",
       " ['99.Citizen Kane(1941)', '8.3'],\n",
       " ['100.M(1931)', '8.3']]"
      ]
     },
     "execution_count": 11,
     "metadata": {},
     "output_type": "execute_result"
    }
   ],
   "source": [
    "item_list\n"
   ]
  },
  {
   "cell_type": "markdown",
   "id": "palestinian-sister",
   "metadata": {},
   "source": [
    "# csv output of imdb list"
   ]
  },
  {
   "cell_type": "code",
   "execution_count": 18,
   "id": "disturbed-paintball",
   "metadata": {},
   "outputs": [],
   "source": [
    "df2 = DataFrame (item_list,columns=['Rank_and_Name','Ratings'])\n",
    "csv_output_imdb = df2.to_csv(\"imdb_100\")"
   ]
  },
  {
   "cell_type": "code",
   "execution_count": null,
   "id": "micro-venezuela",
   "metadata": {},
   "outputs": [],
   "source": []
  }
 ],
 "metadata": {
  "kernelspec": {
   "display_name": "Python [conda env:PythonData] *",
   "language": "python",
   "name": "conda-env-PythonData-py"
  },
  "language_info": {
   "codemirror_mode": {
    "name": "ipython",
    "version": 3
   },
   "file_extension": ".py",
   "mimetype": "text/x-python",
   "name": "python",
   "nbconvert_exporter": "python",
   "pygments_lexer": "ipython3",
   "version": "3.6.10"
  }
 },
 "nbformat": 4,
 "nbformat_minor": 5
}
